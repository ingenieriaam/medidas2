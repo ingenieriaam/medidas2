{
 "cells": [
  {
   "cell_type": "markdown",
   "metadata": {},
   "source": [
    "## Algoritmo de busqueda\n",
    "generalizado para comandos del tipo:"
   ]
  },
  {
   "cell_type": "code",
   "execution_count": null,
   "metadata": {},
   "outputs": [],
   "source": [
    "#cmd=\"CALCulate:BANDwidth:PTPeak\"\n",
    "#cmd=\"CALCulate:MARKer<n>:PTPeak\"\n",
    "#cmd=\"CALCulate:MARKer:FCOunt:RESolution\"\n",
    "cmd=\"CALCulate:NTData[:STATe]\"\n",
    "def busqueda(cmd):\n",
    "\n",
    "    cmd_s=cmd.split(\":\")\n",
    "    class1=cmd_s[0].split(\"[\")[0].split(\"]\")[0].lower()\n",
    "    class2=cmd_s[1].split(\"[\")[0].split(\"]\")[0].lower()\n",
    "    \n",
    "    class2=class2.split(\"<\")\n",
    "    if (len(class2)>1):\n",
    "        op=class2[1].split(\">\")[0]\n",
    "        op=op.split(\"[\")[0].split(\"]\")[0]\n",
    "        class2=class2[0].split(\"[\")[0].split(\"]\")[0]\n",
    "    else:\n",
    "        class2=class2[0]\n",
    "        op=0\n",
    "        \n",
    "        \n",
    "    if (len(cmd_s)>3):\n",
    "        func=cmd_s[2].split(\"[\")[0].split(\"]\")[0].lower()\n",
    "        for i in range(3,len(cmd_s),1):\n",
    "            func=func+\"_\"+cmd_s[i].split(\"[\")[0].split(\"]\")[0].lower()\n",
    "    else:\n",
    "        func=cmd_s[2].split(\"[\")[0].split(\"]\")[0].lower()\n",
    "\n",
    "    return(class1,class2,func,op)\n",
    "busqueda(cmd)"
   ]
  },
  {
   "cell_type": "markdown",
   "metadata": {},
   "source": [
    "## generación de archivo\n",
    "> Requiere la apertura y el cierre de forma externa"
   ]
  },
  {
   "cell_type": "code",
   "execution_count": null,
   "metadata": {},
   "outputs": [],
   "source": [
    "static_c2=[]\n",
    "def file_gen(cmd,tipo,class1,class2,funcion,op,filename):\n",
    "    f = open (filename,'a')\n",
    "    \n",
    "    if(op!=0):\n",
    "        cmd=cmd.split(\"<\")\n",
    "        cmd=cmd[0]+\"\\\"+str(op)+\\\"\"+cmd[1].split(\">\")[1]\n",
    "\n",
    "\n",
    "    if (class2):\n",
    "        # clase de jerarquia 2\n",
    "        f.write(\"\\nclass {}:\\n\\tdef __init__(self):\\n\".format(class2))\n",
    "        f.write(\"\\t\\tINFO_NO_PARAM=\\\"no admite parametro, se envia consulta\\\"\\n\")\n",
    "        static_c2.append(class2)    \n",
    "        \n",
    "\n",
    "    f.write(\"\\tdef {}(*n):\\n\\t\\tif len(n) == 0:\\n\".format(funcion))    \n",
    "    if (tipo==\"WQ\"):\n",
    "        f.write(\"\\t\\t\\tinst.query(\\\"{}?\\\")\\n\\t\\telse:\\n\\t\\t\\tinst.write(\\\"{} \\\" +str(n))\\n\".format(cmd,cmd))\n",
    "    elif (tipo==\"Q\"):\n",
    "        f.write(\"\\t\\t\\tinst.query(\\\"{}?\\\")\\n\\t\\telse:\\n\\t\\t\\tinst.query(\\\"{} \\\" +str(n))\\n\".format(cmd,cmd))\n",
    "    elif (tipo==\"W\"):\n",
    "        f.write(\"\\t\\t\\tinst.write(\\\"{}?\\\")\\n\\t\\telse:\\n\\t\\t\\tinst.write(\\\"{} \\\" +str(n))\\n\".format(cmd,cmd))\n",
    "    else:\n",
    "        f.write(\"\\t\\t\\tinst.read(\\\"{}?\\\")\\n\\t\\telse:\\n\\t\\t\\tinst.read(\\\"{} \\\" +str(n))\\n\".format(cmd,cmd))\n",
    "        \n",
    "    # clase de jerarquia 1, ultima en generarse\n",
    "    if(class1): # seteado en el loop luego de la primer pasada (no está la clase principal)\n",
    "        f.write(\"class {}:\\n\\tdef __init__(self):\\n\".format(class1))\n",
    "        for c in static_c2:\n",
    "            f.write(\"\\t\\tself.{}={}()\\n\".format(c,c))\n",
    "    f.close()\n",
    "    "
   ]
  },
  {
   "cell_type": "markdown",
   "metadata": {},
   "source": [
    "## vector de comandos\n",
    "comandos puestos en un vector aclarando su tipo\n",
    "- WQ: write & query\n",
    "- Q: query\n",
    "- W: write\n",
    "- R: read\n",
    "- Z: sin parametro ni rta\n",
    "\n",
    "Formato: [cmd1,type,cmd2,type....,cmdn,type]"
   ]
  },
  {
   "cell_type": "markdown",
   "metadata": {},
   "source": [
    "# Proceso general\n",
    "Se recorre el vector y se va realizando la busqueda y la escritura"
   ]
  },
  {
   "cell_type": "code",
   "execution_count": null,
   "metadata": {},
   "outputs": [],
   "source": [
    "\n",
    "def commad2file(cmdV,filename):\n",
    "    rango = len(cmdV)\n",
    "    class2=[0]\n",
    "    \n",
    "    for i in range(0,rango,2):\n",
    "        cmd=cmdV[i]\n",
    "        tipo=cmdV[i+1]\n",
    "\n",
    "        (c1,c2,funcion,op)=busqueda(cmd)\n",
    "\n",
    "        class2.append(c2)\n",
    "        if (c2==class2[-2]):\n",
    "            c2=0\n",
    "\n",
    "\n",
    "\n",
    "        if(i==rango-2):\n",
    "            file_gen(cmd,tipo,c1,c2,funcion,op,filename)\n",
    "        else:\n",
    "            file_gen(cmd,tipo,0,c2,funcion,op,filename)\n"
   ]
  },
  {
   "cell_type": "markdown",
   "metadata": {},
   "source": [
    "# Levantando archivo de comandos\n",
    "Se espera un archivo del tipo:\n",
    "\n",
    "> tipo:comando\n",
    "\n"
   ]
  },
  {
   "cell_type": "code",
   "execution_count": null,
   "metadata": {},
   "outputs": [],
   "source": [
    "def instrument_class(lista_de_comandos,salida):\n",
    "    f=open(lista_de_comandos,\"r\")\n",
    "    cmdV=[]\n",
    "    str = f.readline()\n",
    "    while (str):\n",
    "        tipo=str.split(\":\")[0]\n",
    "        index=str.find(\":\")+1\n",
    "        cmd=str[index:].split(\"\\n\")[0]\n",
    "        cmdV.append(cmd)\n",
    "        cmdV.append(tipo)\n",
    "        str = f.readline()\n",
    "\n",
    "\n",
    "    if os.path.exists(salida):\n",
    "        os.remove(salida)\n",
    "    commad2file(cmdV,salida)\n",
    "    print(\"clase para manejo del instrumental creada\")"
   ]
  },
  {
   "cell_type": "markdown",
   "metadata": {},
   "source": [
    "# Modo de uso\n",
    "\n",
    "se indica:\n",
    "\n",
    "- archivo que contiene el listado de comandos\n",
    "- archivo de salida\n",
    "\n",
    "Luego:\n",
    "```py\n",
    "import salida\n",
    "```"
   ]
  },
  {
   "cell_type": "code",
   "execution_count": null,
   "metadata": {},
   "outputs": [],
   "source": [
    "import os\n",
    "\n",
    "lista_de_comandos=\"classRigol.py\"\n",
    "salida=\"commans_rigol815.py\"\n",
    "\n",
    "instrument_class(lista_de_comandos,salida)"
   ]
  },
  {
   "cell_type": "code",
   "execution_count": null,
   "metadata": {},
   "outputs": [],
   "source": [
    "from commans_rigol815 import calculate \n",
    "rigol=calculate()"
   ]
  },
  {
   "cell_type": "markdown",
   "metadata": {},
   "source": [
    "# Ideas de mejoras:\n",
    "- incluir la deteccion de comandos sin parametro\n",
    "- detectar los distintos tipos de comandos (ej, estructura sence, :FETCh:HARMonics:AMPLitude <n>, etc) y considerarlos por separado\n",
    "- hacer el proceso como venimos haciendo y por cada ## (ver lista rigol 815) pasar nuevamente para agregar otra clase\n",
    "- al final del archivo, hacer la clase Rigol_815 final"
   ]
  },
  {
   "cell_type": "markdown",
   "metadata": {},
   "source": [
    "## Pequeña utilidad para facilitar edición"
   ]
  },
  {
   "cell_type": "code",
   "execution_count": null,
   "metadata": {},
   "outputs": [],
   "source": [
    "lista_de_comandos=\"lista_rigol_815.py\"\n",
    "salida=\"lista_rigol_815_identificada.py\"\n",
    "\n",
    "f=open(lista_de_comandos,\"r\")\n",
    "s=open(salida,\"w\")\n",
    "cmdV=[]\n",
    "str = f.readline()\n",
    "while (str):\n",
    "    print(str)\n",
    "    if(str[0]==\":\"):\n",
    "        tipo=input(\"especifique tipo: WQ, Q, W, R o Z. EXIT para finalizar\\n\")\n",
    "        if(tipo == \"EXIT\"):\n",
    "            break\n",
    "        s.write(tipo+str)\n",
    "    else:\n",
    "        s.write(str)\n",
    "    str = f.readline()\n",
    "\n",
    "f.close()\n",
    "s.close()"
   ]
  },
  {
   "cell_type": "code",
   "execution_count": null,
   "metadata": {},
   "outputs": [],
   "source": []
  },
  {
   "cell_type": "code",
   "execution_count": null,
   "metadata": {},
   "outputs": [],
   "source": []
  }
 ],
 "metadata": {
  "celltoolbar": "Raw Cell Format",
  "kernelspec": {
   "display_name": "Python 3",
   "language": "python",
   "name": "python3"
  },
  "language_info": {
   "codemirror_mode": {
    "name": "ipython",
    "version": 3
   },
   "file_extension": ".py",
   "mimetype": "text/x-python",
   "name": "python",
   "nbconvert_exporter": "python",
   "pygments_lexer": "ipython3",
   "version": "3.6.5"
  }
 },
 "nbformat": 4,
 "nbformat_minor": 2
}
