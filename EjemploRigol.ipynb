{
 "cells": [
  {
   "cell_type": "markdown",
   "metadata": {},
   "source": [
    "## Ejemplos de comandos para analizador Rigol DSA815\n",
    "\n",
    "- :CALCulate:BANDwidth:PTPeak\n",
    "- :CALCulate:MARKer:PTPeak\n",
    "- :CALCulate:MARKer:FCOunt:RESolution\n",
    "- :CALCulate:LLINe:RELAmpt[:STATe]\n",
    "- :CALCulate:MARKer:AOFF\n",
    "- :CALCulate:MARKer[:SET]:CENTer\n",
    "- :CALibration:[ALL]\n",
    "- :CALibration:AUTO\n",
    "- :COUPle\n",
    "- :DISPlay:WINdow:TRACe:X[:SCALe]:SPACing\n",
    "- :OUTPut[:STATe]\n",
    "- [:SENSe]:SIGCapture:2FSK:MARK1:Switch[:STATe]"
   ]
  },
  {
   "cell_type": "code",
   "execution_count": 9,
   "metadata": {},
   "outputs": [],
   "source": [
    "import commans_rigol815\n",
    "import os\n",
    "rigol=commans_rigol815.calculate()"
   ]
  },
  {
   "cell_type": "code",
   "execution_count": 2,
   "metadata": {},
   "outputs": [
    {
     "name": "stdout",
     "output_type": "stream",
     "text": [
      "Rigol Technologies,DSA815,DSA8A194601354,00.01.18.00.02\n",
      "\n"
     ]
    }
   ],
   "source": [
    "print(rigol.common.identify())"
   ]
  },
  {
   "cell_type": "code",
   "execution_count": 3,
   "metadata": {},
   "outputs": [],
   "source": [
    "rigol.bandwidth.ndb(4)"
   ]
  },
  {
   "cell_type": "code",
   "execution_count": 4,
   "metadata": {},
   "outputs": [
    {
     "name": "stdout",
     "output_type": "stream",
     "text": [
      "200000000\n",
      "\n"
     ]
    }
   ],
   "source": [
    "print(rigol.sense.freq_center())\n"
   ]
  },
  {
   "cell_type": "code",
   "execution_count": 5,
   "metadata": {},
   "outputs": [],
   "source": [
    "rigol.sense.freq_span(200000000)\n"
   ]
  },
  {
   "cell_type": "code",
   "execution_count": 6,
   "metadata": {},
   "outputs": [],
   "source": [
    "rigol.sense.freq_center(200000000)"
   ]
  },
  {
   "cell_type": "code",
   "execution_count": 8,
   "metadata": {},
   "outputs": [],
   "source": [
    "rigol.common.close()"
   ]
  },
  {
   "cell_type": "code",
   "execution_count": null,
   "metadata": {},
   "outputs": [],
   "source": []
  }
 ],
 "metadata": {
  "kernelspec": {
   "display_name": "Python 3",
   "language": "python",
   "name": "python3"
  },
  "language_info": {
   "codemirror_mode": {
    "name": "ipython",
    "version": 3
   },
   "file_extension": ".py",
   "mimetype": "text/x-python",
   "name": "python",
   "nbconvert_exporter": "python",
   "pygments_lexer": "ipython3",
   "version": "3.6.5"
  }
 },
 "nbformat": 4,
 "nbformat_minor": 2
}
