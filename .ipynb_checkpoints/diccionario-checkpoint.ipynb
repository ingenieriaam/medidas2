{
 "cells": [
  {
   "cell_type": "markdown",
   "metadata": {},
   "source": [
    "# Ejemplo de diccionarios\n",
    "El diccionario es un listado similar al vector pero indexado a traves de palabras\n",
    "Se hace uso de tuplas:\n",
    "- conjunto de valores de cualquier tipo\n",
    "- el primer \"valor\", pr ej identifier, es la KEY\n",
    "- el segundo es simplemente VALUE, en este caso una tupla\n",
    "- las tuplas de 2 componentes se conocen como PAIR\n",
    "\n",
    "Todo el ejemplo se basa en el proyecto de control de equipos de medicion"
   ]
  },
  {
   "cell_type": "code",
   "execution_count": 1,
   "metadata": {},
   "outputs": [
    {
     "name": "stdout",
     "output_type": "stream",
     "text": [
      "Q\n",
      "*IDN\n"
     ]
    }
   ],
   "source": [
    "dicc_IEEE={'Q_identifier'            :('Q','*IDN',False),\n",
    "           'W_reset'                 :('W','*RST' ,False),\n",
    "           'Q_operation_complete'    :('Q','*OPC',False),\n",
    "           'Q_service_request_enable':('Q','*SRE',True),\n",
    "           'W_clear_status'          :('W','*CLS',False),\n",
    "           'Q_event_status_register' :('Q','*ESR',True),\n",
    "           'Q_status_byte'           :('Q','*STB',True),\n",
    "           'Q_event_status_en'       :('Q','*ESE',True)}\n",
    "\n",
    "print(dicc_IEEE['Q_identifier'][0])\n",
    "print(dicc_IEEE['Q_identifier'][1])"
   ]
  },
  {
   "cell_type": "markdown",
   "metadata": {},
   "source": [
    "### Funcion de conformacion de mensaje\n",
    "En base al diccionario conformo un mensaje de salida:\n",
    "1. si admite parametro (true) debera ver si recibe o no el mismo\n",
    "2. si no admite parametro, retorna el comando\n",
    "3. las iniciadas en Q esperan respuesta, las inidiadas en W, solo escriben"
   ]
  },
  {
   "cell_type": "code",
   "execution_count": 5,
   "metadata": {},
   "outputs": [],
   "source": [
    "def build_command ( command, *parameter ):\n",
    "    if (dicc_IEEE [command][2]): #tiene true\n",
    "        if len(parameter) == 0:\n",
    "            return (dicc_IEEE[command][1] + '?')\n",
    "        else: \n",
    "            return (dicc_IEEE[command][1] + ' ' + str(*parameter))\n",
    "    else:\n",
    "        if len(parameter) != 0:\n",
    "            print('el comando no admite parametro: parametro descartado \\n')\n",
    "        return (dicc_IEEE[command][1])\n"
   ]
  },
  {
   "cell_type": "code",
   "execution_count": 6,
   "metadata": {},
   "outputs": [
    {
     "name": "stdout",
     "output_type": "stream",
     "text": [
      "*IDN\n",
      "*RST\n",
      "*SRE?\n",
      "*SRE 8\n",
      "el comando no admite parametro: parametro descartado \n",
      "\n",
      "*RST\n"
     ]
    }
   ],
   "source": [
    "print(build_command('Q_identifier'))\n",
    "print(build_command('W_reset'))\n",
    "print(build_command('Q_service_request_enable'))\n",
    "print(build_command('Q_service_request_enable',8))\n",
    "print(build_command('W_reset',7))\n"
   ]
  },
  {
   "cell_type": "markdown",
   "metadata": {},
   "source": [
    "## mejora de envio de datos directo con PyVisa\n",
    "Para el control de equipos se hace uso de PyVisa. Las pruebas requieren el equipo conectado"
   ]
  },
  {
   "cell_type": "code",
   "execution_count": 7,
   "metadata": {},
   "outputs": [
    {
     "ename": "ModuleNotFoundError",
     "evalue": "No module named 'visa'",
     "output_type": "error",
     "traceback": [
      "\u001b[1;31m---------------------------------------------------------------------------\u001b[0m",
      "\u001b[1;31mModuleNotFoundError\u001b[0m                       Traceback (most recent call last)",
      "\u001b[1;32m<ipython-input-7-caf00698e6f1>\u001b[0m in \u001b[0;36m<module>\u001b[1;34m()\u001b[0m\n\u001b[1;32m----> 1\u001b[1;33m \u001b[1;32mimport\u001b[0m \u001b[0mvisa\u001b[0m\u001b[1;33m\u001b[0m\u001b[0m\n\u001b[0m",
      "\u001b[1;31mModuleNotFoundError\u001b[0m: No module named 'visa'"
     ]
    }
   ],
   "source": [
    "import visa"
   ]
  },
  {
   "cell_type": "code",
   "execution_count": 20,
   "metadata": {},
   "outputs": [],
   "source": [
    "if (connected):\n",
    "    class inst:\n",
    "        def write(command):\n",
    "            print('enviado '+command)\n",
    "        def query(command):\n",
    "            #print('enviado '+command)\n",
    "            return('   recibido: bien')\n",
    "        def read(command):\n",
    "            return('recibido '+command)\n",
    "else:\n",
    "    rm = visa.ResourceManager()\n",
    "    a = rm.list_resources()\n",
    "    inst = rm.open_resource(a[0])\n",
    "    inst.write(\"*IDN?\")"
   ]
  },
  {
   "cell_type": "code",
   "execution_count": 21,
   "metadata": {},
   "outputs": [],
   "source": [
    "# funcion que automatiza el envio\n",
    "def cmd(command,*parameter):\n",
    "    if dicc_IEEE[command][0] == 'Q':\n",
    "        return(inst.query(build_command(command,*parameter)))\n",
    "    elif dicc_IEEE[command][0] == 'W':\n",
    "        inst.write(build_command(command,*parameter))\n",
    "    else:\n",
    "        return(inst.read(build_command(command,*parameter)))\n",
    "\n",
    "        "
   ]
  },
  {
   "cell_type": "code",
   "execution_count": 22,
   "metadata": {},
   "outputs": [
    {
     "name": "stdout",
     "output_type": "stream",
     "text": [
      "enviado *RST\n",
      "   recibido: bien\n",
      "   recibido: bien\n"
     ]
    }
   ],
   "source": [
    "cmd('W_reset')\n",
    "a=cmd('Q_service_request_enable')\n",
    "b=cmd('Q_service_request_enable',8)\n",
    "print(a)\n",
    "print(b)"
   ]
  },
  {
   "cell_type": "code",
   "execution_count": null,
   "metadata": {},
   "outputs": [],
   "source": []
  }
 ],
 "metadata": {
  "kernelspec": {
   "display_name": "Python 3",
   "language": "python",
   "name": "python3"
  },
  "language_info": {
   "codemirror_mode": {
    "name": "ipython",
    "version": 3
   },
   "file_extension": ".py",
   "mimetype": "text/x-python",
   "name": "python",
   "nbconvert_exporter": "python",
   "pygments_lexer": "ipython3",
   "version": "3.7.3"
  }
 },
 "nbformat": 4,
 "nbformat_minor": 2
}
