{
 "cells": [
  {
   "cell_type": "markdown",
   "metadata": {},
   "source": [
    "# Test general de archivo generado"
   ]
  },
  {
   "cell_type": "code",
   "execution_count": 31,
   "metadata": {},
   "outputs": [],
   "source": [
    "import visa"
   ]
  },
  {
   "cell_type": "code",
   "execution_count": 73,
   "metadata": {},
   "outputs": [
    {
     "name": "stdout",
     "output_type": "stream",
     "text": [
      "('USB0::6833::2400::DSA8A194601354::0::INSTR',)\n",
      "USB0::6833::2400::DSA8A194601354::0::INSTR\n",
      "Rigol Technologies,DSA815,DSA8A194601354,00.01.18.00.02\n",
      "\n"
     ]
    }
   ],
   "source": [
    "rm = visa.ResourceManager()\n",
    "print(rm.list_resources())\n",
    "a = rm.list_resources()\n",
    "print(a[0])\n",
    "inst = rm.open_resource(a[0])\n",
    "print(inst.query(\"*IDN?\"))"
   ]
  },
  {
   "cell_type": "code",
   "execution_count": 79,
   "metadata": {},
   "outputs": [],
   "source": [
    "# menor jerarquia\n",
    "class bandwidth:\n",
    "    def __init__(self):\n",
    "        INFO_NO_PARAM=\"no admite parametro, se envia consulta\"        \n",
    "    def ndb(*n):\n",
    "        if len(n) == 0:\n",
    "            inst.query(\":CALCulate:BANDwidth:NDB?\")\n",
    "        else:\n",
    "            inst.write(\":CALCulate:BANDwidth:NDB n\")\n",
    "\n",
    "class marker:\n",
    "    def __init__(self):\n",
    "        INFO_NO_PARAM=\"no admite parametro, se envia consulta\"        \n",
    "    def fcount_resolution(*n):\n",
    "        if len(n) == 0:\n",
    "            inst.query(\":CALCulate:MARKer:FCOunt:RESolution?\")\n",
    "        else:\n",
    "            inst.write(\":CALCulate:MARKer:FCOunt:RESolution n\")\n",
    "# mayor jerarquia\n",
    "            \n",
    "class calculate:\n",
    "    def __init__(self):\n",
    "        self.bandwidth=bandwidth()\n",
    "        self.marker=marker()\n",
    "\n"
   ]
  },
  {
   "cell_type": "code",
   "execution_count": 80,
   "metadata": {},
   "outputs": [],
   "source": [
    "rigol = calculate()"
   ]
  },
  {
   "cell_type": "code",
   "execution_count": 83,
   "metadata": {},
   "outputs": [],
   "source": [
    "a=rigol.bandwidth.ndb(6)"
   ]
  },
  {
   "cell_type": "code",
   "execution_count": 84,
   "metadata": {},
   "outputs": [
    {
     "name": "stdout",
     "output_type": "stream",
     "text": [
      "None\n"
     ]
    }
   ],
   "source": [
    "print(a)"
   ]
  },
  {
   "cell_type": "code",
   "execution_count": null,
   "metadata": {},
   "outputs": [],
   "source": []
  }
 ],
 "metadata": {
  "kernelspec": {
   "display_name": "Python 3",
   "language": "python",
   "name": "python3"
  },
  "language_info": {
   "codemirror_mode": {
    "name": "ipython",
    "version": 3
   },
   "file_extension": ".py",
   "mimetype": "text/x-python",
   "name": "python",
   "nbconvert_exporter": "python",
   "pygments_lexer": "ipython3",
   "version": "3.6.5"
  }
 },
 "nbformat": 4,
 "nbformat_minor": 2
}
