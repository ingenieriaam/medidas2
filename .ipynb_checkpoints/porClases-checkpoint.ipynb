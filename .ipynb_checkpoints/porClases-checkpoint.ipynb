{
 "cells": [
  {
   "cell_type": "code",
   "execution_count": 46,
   "metadata": {},
   "outputs": [],
   "source": [
    "n=4\n",
    "a=\"hola\""
   ]
  },
  {
   "cell_type": "code",
   "execution_count": 47,
   "metadata": {},
   "outputs": [
    {
     "name": "stdout",
     "output_type": "stream",
     "text": [
      "Total score for 4 is hola\n"
     ]
    }
   ],
   "source": [
    "print(\"Total score for {} is {}\".format(n, a))"
   ]
  },
  {
   "cell_type": "code",
   "execution_count": 48,
   "metadata": {},
   "outputs": [
    {
     "name": "stdout",
     "output_type": "stream",
     "text": [
      "\t def n_db(*n):\n",
      "\t\t if len(n) == 0:\n",
      "\t\t\t inst.query(:CALCulate:BANDwidth:NDB?)\n",
      "\t\t else:\n",
      "\t\t\t inst.write(:CALCulate:BANDwidth:NDB 4)\n",
      "\n"
     ]
    }
   ],
   "source": [
    "print(\"\\t def n_db(*n):\\n\\t\\t if len(n) == 0:\\n\\t\\t\\t inst.query(:CALCulate:BANDwidth:NDB?)\\n\\t\\t else:\\n\\t\\t\\t inst.write(:CALCulate:BANDwidth:NDB {})\\n\".format(n))"
   ]
  },
  {
   "cell_type": "code",
   "execution_count": 49,
   "metadata": {},
   "outputs": [
    {
     "name": "stdout",
     "output_type": "stream",
     "text": [
      "CALCulate\n",
      "BANDwidth\n",
      "ndb\n"
     ]
    }
   ],
   "source": [
    "cmd=\":CALCulate:BANDwidth:NDB\"\n",
    "n=4\n",
    "# busqueda\n",
    "idx1 = cmd[1:].find(\":\")\n",
    "print(cmd[1:idx1+1])\n",
    "class1=cmd[1:idx1+1].lower()\n",
    "\n",
    "idx = cmd[idx1+2:].find(\":\")\n",
    "a=idx1+idx\n",
    "print(cmd[idx+2:a+2])\n",
    "class2=cmd[idx+2:a+2].lower()\n",
    "\n",
    "func=cmd[a+1:].lower()\n",
    "func=func[2:] #dado que agrega \"h:\"\n",
    "print(func)\n"
   ]
  },
  {
   "cell_type": "code",
   "execution_count": 50,
   "metadata": {},
   "outputs": [
    {
     "name": "stdout",
     "output_type": "stream",
     "text": [
      "\t def ndb(*n):\n",
      "\t\t if len(n) == 0:\n",
      "\t\t\t inst.query(\":CALCulate:BANDwidth:NDB?\")\n",
      "\t\t else:\n",
      "\t\t\t inst.write(\":CALCulate:BANDwidth:NDB 4\")\n",
      "\n"
     ]
    }
   ],
   "source": [
    "mes=print(\"\\t def {}(*n):\\n\\t\\t if len(n) == 0:\\n\\t\\t\\t inst.query(\\\"{}?\\\")\\n\\t\\t else:\\n\\t\\t\\t inst.write(\\\":CALCulate:BANDwidth:NDB {}\\\")\\n\".format(func,cmd,n))\n"
   ]
  },
  {
   "cell_type": "code",
   "execution_count": 51,
   "metadata": {},
   "outputs": [
    {
     "data": {
      "text/plain": [
       "136"
      ]
     },
     "execution_count": 51,
     "metadata": {},
     "output_type": "execute_result"
    }
   ],
   "source": [
    "f = open ('auto_test.py','w')\n",
    "f.write(\"import visa\\n\\n\")\n",
    "f.write(\"class {}:\\n\\tdef __init__(self):\\n\\t\\tINFO_NO_PARAM=\\\"no admite parametro, se envia consulta\\\"\\n\".format(class1))\n",
    "f.write(\"\\nclass {}:\\n\\tdef __init__(self):\\n\\t\\tcalculate.__init__(self,n)\\n\".format(class2))\n",
    "f.write(\"\\tdef {}(*n):\\n\\t\\tif len(n) == 0:\\n\\t\\t\\tinst.query(\\\"{}?\\\")\\n\\t\\telse:\\n\\t\\t\\tinst.write(\\\"{} \\\" +str(n) )\\n\".format(func,cmd,cmd))\n"
   ]
  },
  {
   "cell_type": "code",
   "execution_count": 52,
   "metadata": {},
   "outputs": [
    {
     "name": "stdout",
     "output_type": "stream",
     "text": [
      "CALCulate\n",
      ":CALCulate:MARKer:FCOunt:RESolution\n",
      ":MARKer\n",
      "fcount:resolution\n"
     ]
    }
   ],
   "source": [
    "#CASOS CON <n>\n",
    "#cmd=\":CALCulate:MARKer<n>:PTPeak\"\n",
    "cmd=\":CALCulate:MARKer:FCOunt:RESolution\"\n",
    "\n",
    "op=1            \n",
    "n=6\n",
    "# busqueda\n",
    "idx1 = cmd[1:].find(\":\")\n",
    "print(cmd[1:idx1+1])\n",
    "class1=cmd[1:idx1+1].lower()\n",
    "\n",
    "nidx=cmd[idx1+2:].find(\"<\")\n",
    "if (nidx>=0):\n",
    "    cmdF=cmd[0:idx1+2+nidx]+str(op)+cmd[idx1+2+nidx+3:]\n",
    "    class2=cmdF[idx+2:a-1].lower()\n",
    "    print(cmdF)\n",
    "    \n",
    "    idx = cmd[idx1+2:].find(\":\")\n",
    "   \n",
    "    a=idx1+idx\n",
    "    print(cmd[idx+2:a+2])\n",
    "    class2=cmd[idx+2:a+2].lower()\n",
    "else:\n",
    "    print(cmd)\n",
    "    \n",
    "    idx = cmd[idx1+2:].find(\":\")\n",
    "   \n",
    "    a=idx1+idx\n",
    "    print(cmd[idx+4:a+2])\n",
    "    class2=cmd[idx+5:a+2].lower()\n",
    "\n",
    "\n",
    "func=cmd[a+1:].lower()\n",
    "func=func[2:] #dado que agrega \"h:\"\n",
    "print(func)\n",
    "\n"
   ]
  },
  {
   "cell_type": "code",
   "execution_count": 53,
   "metadata": {},
   "outputs": [],
   "source": [
    "f.write(\"\\nclass {}:\\n\\tdef __init__(self):\\n\\t\\tcalculate.__init__(self,n)\\n\".format(class2))\n",
    "f.write(\"\\tdef {}(*n):\\n\\t\\tif len(n) == 0:\\n\\t\\t\\tinst.query(\\\"{}?\\\")\\n\\t\\telse:\\n\\t\\t\\tinst.write(\\\"{} {}\\\")\\n\".format(func,cmd,cmd,n))\n",
    "f.close()"
   ]
  },
  {
   "cell_type": "code",
   "execution_count": null,
   "metadata": {},
   "outputs": [],
   "source": []
  }
 ],
 "metadata": {
  "kernelspec": {
   "display_name": "Python 3",
   "language": "python",
   "name": "python3"
  },
  "language_info": {
   "codemirror_mode": {
    "name": "ipython",
    "version": 3
   },
   "file_extension": ".py",
   "mimetype": "text/x-python",
   "name": "python",
   "nbconvert_exporter": "python",
   "pygments_lexer": "ipython3",
   "version": "3.6.5"
  }
 },
 "nbformat": 4,
 "nbformat_minor": 2
}
